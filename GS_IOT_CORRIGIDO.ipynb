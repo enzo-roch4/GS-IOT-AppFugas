{
  "cells": [
    {
      "cell_type": "code",
      "source": [
        "import numpy as np\n",
        "import pandas as pd\n",
        "import matplotlib.pyplot as plt\n",
        "from sklearn.model_selection import train_test_split\n",
        "from sklearn.ensemble import RandomForestClassifier\n",
        "from sklearn.metrics import classification_report, confusion_matrix\n",
        "\n",
        "\n",
        "df = pd.read_csv(\"/content/feed.csv\")\n",
        "\n",
        "print(df.head())\n",
        "\n",
        "df['risco_inundacao'] = (df['field1'] > 65).astype(int)\n",
        "\n",
        "\n",
        "X = df[['field1', 'field2', 'field3']]\n",
        "y = df['risco_inundacao']\n",
        "\n",
        "# Passo 3: Dividir os dados em treino e teste\n",
        "X_train, X_test, y_train, y_test = train_test_split(X, y, test_size=0.2, random_state=42)\n",
        "\n",
        "# Passo 4: Criar e treinar o modelo\n",
        "model = RandomForestClassifier(random_state=42)\n",
        "model.fit(X_train, y_train)\n",
        "\n",
        "# Passo 5: Prever os resultados\n",
        "y_pred = model.predict(X_test)\n",
        "\n",
        "# Passo 6: Avaliar o desempenho do modelo\n",
        "print(\"Matriz de Confusão:\")\n",
        "print(confusion_matrix(y_test, y_pred))\n",
        "\n",
        "print(\"\\nRelatório de Classificação:\")\n",
        "print(classification_report(y_test, y_pred))\n",
        "\n",
        "# Passo 7: Simulação de Previsão (dados simulados)\n",
        "novo_nivel = 70  # Exemplo: um nível elevado\n",
        "novo_terremoto = 4.5  # Exemplo de magnitude de terremoto\n",
        "nova_temperatura = 30  # Exemplo de temperatura\n",
        "\n",
        "# Fazer a previsão com novos dados\n",
        "risco = model.predict([[novo_nivel, nova_temperatura, novo_terremoto]])\n",
        "print(f\"Nível de água: {novo_nivel}, Temperatura: {nova_temperatura}, Terremoto: {novo_terremoto} => Risco de inundação: {'SIM' if risco[0] == 1 else 'NÃO'}\")\n"
      ],
      "metadata": {
        "id": "JsAeq7jlhddj",
        "outputId": "33ad9c19-eabd-45db-ba5e-8f802a138304",
        "colab": {
          "base_uri": "https://localhost:8080/"
        }
      },
      "execution_count": 2,
      "outputs": [
        {
          "output_type": "stream",
          "name": "stdout",
          "text": [
            "                created_at  entry_id  field1  field2  field3\n",
            "0  2025-06-04 18:35:01 UTC         1   74.89   54.85    9.03\n",
            "1  2025-06-04 18:35:17 UTC         2   74.89   54.85    7.27\n",
            "2  2025-06-04 19:00:33 UTC         3   74.89   54.85    6.69\n",
            "3  2025-06-04 19:00:51 UTC         4   76.46   54.85    5.73\n",
            "4  2025-06-04 19:01:08 UTC         5   76.46   64.81    6.28\n",
            "Matriz de Confusão:\n",
            "[[7 0]\n",
            " [0 2]]\n",
            "\n",
            "Relatório de Classificação:\n",
            "              precision    recall  f1-score   support\n",
            "\n",
            "           0       1.00      1.00      1.00         7\n",
            "           1       1.00      1.00      1.00         2\n",
            "\n",
            "    accuracy                           1.00         9\n",
            "   macro avg       1.00      1.00      1.00         9\n",
            "weighted avg       1.00      1.00      1.00         9\n",
            "\n",
            "Nível de água: 70, Temperatura: 30, Terremoto: 4.5 => Risco de inundação: SIM\n"
          ]
        },
        {
          "output_type": "stream",
          "name": "stderr",
          "text": [
            "/usr/local/lib/python3.11/dist-packages/sklearn/utils/validation.py:2739: UserWarning: X does not have valid feature names, but RandomForestClassifier was fitted with feature names\n",
            "  warnings.warn(\n"
          ]
        }
      ]
    }
  ],
  "metadata": {
    "colab": {
      "provenance": []
    },
    "kernelspec": {
      "display_name": "Python 3",
      "name": "python3"
    }
  },
  "nbformat": 4,
  "nbformat_minor": 0
}